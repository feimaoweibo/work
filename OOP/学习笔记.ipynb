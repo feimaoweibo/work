{
 "cells": [
  {
   "cell_type": "code",
   "execution_count": 0,
   "metadata": {},
   "outputs": [
    {
     "name": "stdout",
     "output_type": "stream",
     "text": [
      "去叫家长吧，孩子\n"
     ]
    }
   ],
   "source": [
    "#if 语句\n",
    "age =17\n",
    "if age<18:\n",
    "    print(\"去叫家长吧，孩子\")"
   ]
  },
  {
   "cell_type": "code",
   "execution_count": null,
   "metadata": {
    "collapsed": true
   },
   "outputs": [],
   "source": [
    "age =19\n",
    "if age <18:\n",
    "    print(\"去叫家长吧，孩子\")\n",
    "    print(\"我们不带你玩\")\n",
    "    print(\"滚蛋\")\n",
    "print(\"上车了，老司机们\")"
   ]
  },
  {
   "cell_type": "markdown",
   "metadata": {},
   "source": [
    "#if.....else.....双向语句\n"
   ]
  },
  {
   "cell_type": "code",
   "execution_count": 4,
   "metadata": {
    "scrolled": true
   },
   "outputs": [
    {
     "name": "stdout",
     "output_type": "stream",
     "text": [
      "请输入性别: nan\n",
      "请输入您的性别:{0}.format(gender)\n",
      "来，我们纪念今天，敲代码10遍\n"
     ]
    }
   ],
   "source": [
    "gender = input(\"请输入性别: \")\n",
    "print(\"请输入您的性别:{0}.format(gender)\")\n",
    "if gender ==\"nan\":\n",
    "    print(\"来，我们纪念今天，敲代码10遍\")\n",
    "else:\n",
    "    print(\"妹子，老师喜欢写你\")"
   ]
  },
  {
   "cell_type": "code",
   "execution_count": 8,
   "metadata": {},
   "outputs": [
    {
     "name": "stdout",
     "output_type": "stream",
     "text": [
      "请输入学生成绩： 77\n",
      "C\n"
     ]
    }
   ],
   "source": [
    "# score 存放学生成绩分数\n",
    "score = input(\"请输入学生成绩： \")\n",
    "# 需要把str字符串转换成int整数\n",
    "score =int(score)\n",
    "if score >90:\n",
    "    print(\"A\")\n",
    "if score >80 and score <=90:\n",
    "    print(\"B\")\n",
    "if score >70 and score <=80:\n",
    "    print(\"C\")\n",
    "if score >60 and score <=70:\n",
    "    print(\"D\")\n",
    "if score <60:\n",
    "    print(\"滚蛋吧，学生\")"
   ]
  },
  {
   "cell_type": "code",
   "execution_count": 9,
   "metadata": {},
   "outputs": [
    {
     "name": "stdout",
     "output_type": "stream",
     "text": [
      "请输入学生成绩： 65\n",
      "D\n"
     ]
    }
   ],
   "source": [
    "# if.....elif......多路分支\n",
    "# score 存放学生成绩分数\n",
    "score = input(\"请输入学生成绩： \")\n",
    "# 需要把str字符串转换成int整数\n",
    "score =int(score)\n",
    "if score >90:\n",
    "    print(\"A\")\n",
    "elif score >80 :\n",
    "    print(\"B\")\n",
    "elif score >70 :\n",
    "    print(\"C\")\n",
    "elif score >60 :\n",
    "    print(\"D\")\n",
    "elif score <60:\n",
    "    print(\"滚蛋吧，学生\")"
   ]
  },
  {
   "cell_type": "code",
   "execution_count": 16,
   "metadata": {},
   "outputs": [
    {
     "name": "stdout",
     "output_type": "stream",
     "text": [
      "zhangsan\n",
      "lisi\n",
      "wangwu\n",
      "zhouliu\n"
     ]
    }
   ],
   "source": [
    "# for 循环语句\n",
    "for name in ['zhangsan','lisi','wangwu','zhouliu']:\n",
    "    print(name)\n",
    "    "
   ]
  },
  {
   "cell_type": "code",
   "execution_count": 27,
   "metadata": {},
   "outputs": [
    {
     "name": "stdout",
     "output_type": "stream",
     "text": [
      "zhangsan\n",
      "其他都是乖同学\n",
      "lisi\n",
      "讨厌的lisi出现了\n",
      "wangwu\n",
      "其他都是乖同学\n",
      "zhouliu\n",
      "其他都是乖同学\n"
     ]
    }
   ],
   "source": [
    "for name in ['zhangsan','lisi','wangwu','zhouliu']:\n",
    "    print(name)\n",
    "    if name == \"lisi\":\n",
    "        print('讨厌的{0}出现了'.format(name))\n",
    "    else:\n",
    "        print(\"其他都是乖同学\")"
   ]
  },
  {
   "cell_type": "code",
   "execution_count": 30,
   "metadata": {},
   "outputs": [
    {
     "name": "stdout",
     "output_type": "stream",
     "text": [
      "1\n",
      "2\n",
      "3\n",
      "4\n",
      "5\n",
      "6\n",
      "7\n",
      "8\n",
      "9\n",
      "10\n"
     ]
    }
   ],
   "source": [
    "#range 数字序列\n",
    "for i in range(1,11):\n",
    "    print(i)"
   ]
  },
  {
   "cell_type": "code",
   "execution_count": 36,
   "metadata": {},
   "outputs": [
    {
     "name": "stdout",
     "output_type": "stream",
     "text": [
      "zhangsan\n",
      "是乖同学\n",
      "lisi\n",
      "讨厌的lisi出现了\n",
      "wangwu\n",
      "是乖同学\n",
      "zhouliu\n",
      "是乖同学\n",
      "所以大家好好向其他同学学习\n"
     ]
    }
   ],
   "source": [
    "# for....else 语句，for循环结束，执行else语句\n",
    "for name in ['zhangsan','lisi','wangwu','zhouliu']:\n",
    "    print(name)\n",
    "    if name == \"lisi\":\n",
    "        print('讨厌的{0}出现了'.format(name))\n",
    "    else:\n",
    "        print(\"是乖同学\")\n",
    "else:\n",
    "    print(\"所以大家好好向其他同学学习\")"
   ]
  },
  {
   "cell_type": "code",
   "execution_count": null,
   "metadata": {
    "collapsed": true
   },
   "outputs": [],
   "source": [
    "循环之break,contineu,pass\n",
    "break:无条件结束整个循环，简称醉死\n",
    "continue:无条件结束本次循环，从新进入下一循环\n",
    "pass：占位"
   ]
  },
  {
   "cell_type": "code",
   "execution_count": 43,
   "metadata": {},
   "outputs": [
    {
     "name": "stdout",
     "output_type": "stream",
     "text": [
      "1\n",
      "2\n",
      "3\n",
      "4\n",
      "5\n",
      "6\n",
      "我找到了\n"
     ]
    }
   ],
   "source": [
    "# break \n",
    "for i in range(1,11):\n",
    "    if i==7:\n",
    "        print(\"我找到了\")\n",
    "        break\n",
    "        \n",
    "    else:\n",
    "        print(i)"
   ]
  },
  {
   "cell_type": "code",
   "execution_count": 46,
   "metadata": {},
   "outputs": [
    {
     "name": "stdout",
     "output_type": "stream",
     "text": [
      "2是偶数\n",
      "4是偶数\n",
      "6是偶数\n",
      "8是偶数\n",
      "10是偶数\n"
     ]
    }
   ],
   "source": [
    "# continue\n",
    "# 找出偶数，并打印出来偶数\n",
    "for i in range(1,11):\n",
    "    if i % 2 ==1:\n",
    "        continue\n",
    "    else:\n",
    "        print(\"{0}是偶数\".format(i))"
   ]
  },
  {
   "cell_type": "code",
   "execution_count": 47,
   "metadata": {
    "scrolled": true
   },
   "outputs": [
    {
     "ename": "SyntaxError",
     "evalue": "invalid syntax (<ipython-input-47-e1d3451ea4e9>, line 1)",
     "traceback": [
      "\u001b[0;36m  File \u001b[0;32m\"<ipython-input-47-e1d3451ea4e9>\"\u001b[0;36m, line \u001b[0;32m1\u001b[0m\n\u001b[0;31m    for p in [* * * * *]:\u001b[0m\n\u001b[0m                ^\u001b[0m\n\u001b[0;31mSyntaxError\u001b[0m\u001b[0;31m:\u001b[0m invalid syntax\n"
     ],
     "output_type": "error"
    }
   ],
   "source": []
  },
  {
   "cell_type": "code",
   "execution_count": 50,
   "metadata": {},
   "outputs": [
    {
     "name": "stdout",
     "output_type": "stream",
     "text": [
      "* * * * * \n",
      "* * * * * \n",
      "* * * * * \n",
      "* * * * * \n",
      "* * * * * \n"
     ]
    }
   ],
   "source": [
    "#简单图形打印\n",
    "print(\"* \" *5)\n",
    "print(\"* \" *5)\n",
    "print(\"* \" *5)\n",
    "print(\"* \" *5)\n",
    "print(\"* \" *5)\n"
   ]
  },
  {
   "cell_type": "code",
   "execution_count": 60,
   "metadata": {
    "scrolled": true
   },
   "outputs": [
    {
     "name": "stdout",
     "output_type": "stream",
     "text": [
      "* * * * *\n",
      "* * * * *\n",
      "* * * * *\n",
      "* * * * *\n"
     ]
    }
   ],
   "source": [
    "for i in range(4):\n",
    "    print(\"* * * * *\")"
   ]
  },
  {
   "cell_type": "code",
   "execution_count": null,
   "metadata": {
    "collapsed": true
   },
   "outputs": [],
   "source": []
  },
  {
   "cell_type": "code",
   "execution_count": 61,
   "metadata": {},
   "outputs": [
    {
     "name": "stdout",
     "output_type": "stream",
     "text": [
      "* * * * * \n",
      "* * * * * \n",
      "* * * * * \n",
      "* * * * * \n"
     ]
    }
   ],
   "source": [
    "for i in range(4):\n",
    "    print(\"* \"*5)"
   ]
  },
  {
   "cell_type": "code",
   "execution_count": 97,
   "metadata": {},
   "outputs": [
    {
     "name": "stdout",
     "output_type": "stream",
     "text": [
      "* * * * * \n",
      "*       * \n",
      "*       * \n",
      "* * * * * \n"
     ]
    }
   ],
   "source": [
    "for i in range(0,4):\n",
    "    if i==0 or i==3:\n",
    "        print(\"* \"*5)\n",
    "    if i==1 or i==2:\n",
    "        print(\"*       * \")"
   ]
  },
  {
   "cell_type": "code",
   "execution_count": 95,
   "metadata": {},
   "outputs": [
    {
     "name": "stdout",
     "output_type": "stream",
     "text": [
      "* * * * * \n",
      "*       * \n",
      "*       * \n",
      "* * * * * \n"
     ]
    }
   ],
   "source": [
    "for i in range(0,4):\n",
    "    if i==0 or i==3:\n",
    "        print(\"* \"*5)\n",
    "    if i==1 or i==2:\n",
    "        for j in range(5):\n",
    "            if j==0 or j==4:\n",
    "                print(\"* \",end=\"\")\n",
    "            else:\n",
    "                print(\"  \",end=\"\")\n",
    "        print()\n",
    "        "
   ]
  },
  {
   "cell_type": "code",
   "execution_count": null,
   "metadata": {
    "collapsed": true
   },
   "outputs": [],
   "source": [
    "*\n",
    "* *\n",
    "* * *\n",
    "* * * *\n",
    "* * * * *"
   ]
  },
  {
   "cell_type": "code",
   "execution_count": 108,
   "metadata": {},
   "outputs": [
    {
     "name": "stdout",
     "output_type": "stream",
     "text": [
      "* \n",
      "* * \n",
      "* * * \n",
      "* * * * \n",
      "* * * * * \n"
     ]
    }
   ],
   "source": [
    "for i in range(5):\n",
    "    for j in range(i+1):\n",
    "        print(\"* \",end=\"\")\n",
    "    print()"
   ]
  },
  {
   "cell_type": "code",
   "execution_count": null,
   "metadata": {
    "collapsed": true
   },
   "outputs": [],
   "source": [
    "* \n",
    "* * \n",
    "*   * \n",
    "*     * \n",
    "* * * * * "
   ]
  },
  {
   "cell_type": "code",
   "execution_count": 137,
   "metadata": {},
   "outputs": [
    {
     "name": "stdout",
     "output_type": "stream",
     "text": [
      "* \n",
      "* * \n",
      "*   * \n",
      "*     * \n",
      "* * * * * \n",
      "打印结束\n"
     ]
    }
   ],
   "source": [
    "for i in range(5):\n",
    "    for j in range(i+1):\n",
    "        if i==0 or i==4:\n",
    "            print(\"* \",end=\"\")#end=\"\" 表示取消换行\n",
    "            continue\n",
    "        if j==0 or j==i:\n",
    "            print(\"* \",end=\"\")\n",
    "        else:\n",
    "            print(\"  \",end=\"\")\n",
    "    print()#print() 表示强制换行\n",
    "else:\n",
    "    print(\"打印结束\")"
   ]
  },
  {
   "cell_type": "code",
   "execution_count": null,
   "metadata": {
    "collapsed": true
   },
   "outputs": [],
   "source": [
    "* * * * * \n",
    "*     *\n",
    "*   *\n",
    "* * \n",
    "*"
   ]
  },
  {
   "cell_type": "code",
   "execution_count": 156,
   "metadata": {},
   "outputs": [
    {
     "name": "stdout",
     "output_type": "stream",
     "text": [
      "* * * * * \n",
      "*     * \n",
      "*   * \n",
      "* * \n",
      "* \n"
     ]
    }
   ],
   "source": [
    "for i in range(5):\n",
    "    for j in range(5-i):\n",
    "        if i==0 :\n",
    "            print(\"* \",end=\"\")\n",
    "            continue\n",
    "        if j==0 or j==5-i-1:\n",
    "            print(\"* \",end=\"\")\n",
    "        else:\n",
    "            print(\"  \",end=\"\")\n",
    "        \n",
    "    print()"
   ]
  },
  {
   "cell_type": "markdown",
   "metadata": {
    "collapsed": true
   },
   "source": [
    "# 打印三角形，正三角形\n",
    "'''\n",
    "    * \n",
    "   * * \n",
    "  * * * \n",
    " * * * * \n",
    "* * * * * \n",
    "'''"
   ]
  },
  {
   "cell_type": "markdown",
   "metadata": {},
   "source": [
    "#函数\n",
    "代码的一种组织形式\n",
    "一个函数一般完成一项特定的功能\n",
    "函数使用\n",
    "    函数需要先定义\n",
    "    使用函数，俗称调用"
   ]
  },
  {
   "cell_type": "code",
   "execution_count": 30,
   "metadata": {},
   "outputs": [
    {
     "name": "stdout",
     "output_type": "stream",
     "text": [
      "我是一个函数\n"
     ]
    }
   ],
   "source": [
    "# 定义一个函数\n",
    "# 只是定义的话不会执行\n",
    "# 1. def关键字，后跟一个空格\n",
    "# 2. 函数名，自己定义，起名需要遵循便令命名规则，约定俗成，大驼峰命名只给类用\n",
    "# 3. 后面括号和冒号不能省，括号内可以由参数\n",
    "# 4. 函数内所有代码缩进\n",
    "def fun():\n",
    "    print(\"我是一个函数\")\n",
    "fun()"
   ]
  },
  {
   "cell_type": "code",
   "execution_count": 35,
   "metadata": {},
   "outputs": [
    {
     "name": "stdout",
     "output_type": "stream",
     "text": [
      "你的名字芦苇,挺漂亮的\n"
     ]
    }
   ],
   "source": [
    "'''\n",
    "函数的参数和返回值\n",
    "参数： 负责给函数传递一些必要的数据或者信息\n",
    "    形参（形式参数）： 在函数定义的时候用到的参数没有具体值，只是一个占位的符号，成为形参\n",
    "    实参（实际参数）： 在调用函数的时候输入的值\n",
    "返回值： 函数的执行结果\n",
    "    使用return关键字\n",
    "    如果没有return，默认返回一个None\n",
    "    函数一旦执行return语句，则无条件返回，即结束函数的执行\n",
    "'''\n",
    "# 参数的定义和使用\n",
    "# 参数name只是一个符号，代表的是调用的时候的某一个数据\n",
    "# 调用的时候，会用p的值代替函数中所有的name\n",
    "def fun(name):\n",
    "    print(\"你的名字{0},挺漂亮的\".format(name))\n",
    "\n",
    "p =\"芦苇\"\n",
    "fun(p)"
   ]
  },
  {
   "cell_type": "code",
   "execution_count": 41,
   "metadata": {},
   "outputs": [
    {
     "name": "stdout",
     "output_type": "stream",
     "text": [
      "1 \n",
      "2 4 \n",
      "3 6 9 \n",
      "4 8 12 16 \n",
      "5 10 15 20 25 \n",
      "6 12 18 24 30 36 \n",
      "7 14 21 28 35 42 49 \n",
      "8 16 24 32 40 48 56 64 \n",
      "9 18 27 36 45 54 63 72 81 \n"
     ]
    }
   ],
   "source": [
    "# 打印九九乘法表\n",
    "for row in range(1,10):\n",
    "    for col in range(1,row+1):\n",
    "        print(col*row, end=\" \")\n",
    "    print()"
   ]
  },
  {
   "cell_type": "code",
   "execution_count": 26,
   "metadata": {},
   "outputs": [
    {
     "name": "stdout",
     "output_type": "stream",
     "text": [
      "1 \n",
      "2 4 \n",
      "3 6 9 \n",
      "4 8 12 16 \n",
      "5 10 15 20 25 \n",
      "6 12 18 24 30 36 \n",
      "7 14 21 28 35 42 49 \n",
      "8 16 24 32 40 48 56 64 \n",
      "9 18 27 36 45 54 63 72 81 \n"
     ]
    }
   ],
   "source": [
    "# 第一个函数\n",
    "def liebiao(liebiao):\n",
    "    for col in range(1,row+1):\n",
    "        print(col*row, end=\" \")\n",
    "    print() \n",
    "for row in range(1,10):\n",
    "    liebiao(row)"
   ]
  },
  {
   "cell_type": "markdown",
   "metadata": {},
   "source": [
    "四类参数\n",
    "    普通参数\n",
    "    默认参数\n",
    "    关键字参数\n",
    "    收集参数\n",
    "关键字参数开始\n",
    "语法\n",
    "\n",
    "  def func(p1=v1, p2=v2.....):\n",
    "      func_body\n",
    "\n",
    "  调用函数：\n",
    "  func(p1=value1, p2=value2.......)\n",
    "比较麻烦，但也有好处：\n",
    "不容易混淆， 一般实参和形参只是按照位置一一对应即可，容易出错\n",
    "使用关键字参数，可以不考虑参数位置"
   ]
  },
  {
   "cell_type": "code",
   "execution_count": 48,
   "metadata": {},
   "outputs": [
    {
     "name": "stdout",
     "output_type": "stream",
     "text": [
      "i am student\n",
      "我叫jingjing，我今年18，我住我家\n"
     ]
    }
   ],
   "source": [
    "# 普通参数\n",
    "def stu(name, age, addr):\n",
    "    print(\"i am student\")\n",
    "    print(\"我叫{0}，我今年{1}，我住{2}\".format(name,age,addr))\n",
    "    \n",
    "n = \"jingjing\"\n",
    "a = 18\n",
    "addr = \"我家\"\n",
    "stu(n, a, addr)"
   ]
  },
  {
   "cell_type": "code",
   "execution_count": 52,
   "metadata": {},
   "outputs": [
    {
     "name": "stdout",
     "output_type": "stream",
     "text": [
      "i am student\n",
      "我叫王二，我今年118岁，我住广寒宫\n"
     ]
    }
   ],
   "source": [
    "# 关键字参数\n",
    "'''\n",
    "不容易混淆， 一般实参和形参只是按照位置一一对应即可，不容易出错\n",
    "使用关键字参数，可以不考虑参数位置\n",
    "'''\n",
    "def stu_key(name=\"no name\", age=0, addr=\"no addr\"):\n",
    "    print(\"i am student\")\n",
    "    print(\"我叫{0}，我今年{1}岁，我住{2}\".format(name,age,addr))\n",
    "    \n",
    "n = \"王二\"\n",
    "a = 118\n",
    "addr = \"广寒宫\"\n",
    "stu_key(age=a,name=n, addr=addr)"
   ]
  },
  {
   "cell_type": "markdown",
   "metadata": {},
   "source": [
    "收集参数\n",
    "    把没有位置，不能和定义时的参数位置相对应的参数，放入一个特定的数据结构中\n",
    "语法\n",
    "\n",
    "  def func(*args):\n",
    "      func_body\n",
    "      按照list使用方式访问args得到传入的参数\n",
    "\n",
    "  调用：\n",
    "  func(p1, p2, p3, .....)\n",
    "参数名args不是必须这么写，但是，我们推荐直接用args，约定俗成\n",
    "参数名args前需要由星号\n",
    "收集参数可以和其他参数共存"
   ]
  },
  {
   "cell_type": "code",
   "execution_count": 56,
   "metadata": {},
   "outputs": [
    {
     "name": "stdout",
     "output_type": "stream",
     "text": [
      "hello,我先自我介绍，来自广寒宫，过得时间大家都快，你们可以提问\n",
      "<class 'tuple'>\n",
      "王二\n",
      "玉帝的爷爷，我也没有见过\n",
      "玉帝怎么出生的呢？我去问问我爸爸吧！\n",
      "$ $ $ $ $ $ $ $ $ $ $ $ $ $ $ $ $ $ $ $ \n",
      "hello,我先自我介绍，来自广寒宫，过得时间大家都快，你们可以提问\n",
      "<class 'tuple'>\n",
      "李三\n",
      "玉帝出生的时候\n",
      "王二的爸爸在场，他亲眼见证了的\n",
      "$ $ $ $ $ $ $ $ $ $ $ $ $ $ $ $ $ $ $ $ \n"
     ]
    }
   ],
   "source": [
    "# 收集参数代码\n",
    "# 函数模拟一个学生进行自我介绍，但具体内容不清楚\n",
    "# args把他看做一个list\n",
    "def stu(*args):\n",
    "    print(\"hello,我先自我介绍，来自广寒宫，过得时间大家都快，你们可以提问\")\n",
    "    # type函数用来检测变量的类型\n",
    "    print(type(args))\n",
    "    for item in args:\n",
    "        print(item)\n",
    "    print(\"$ \"*20)\n",
    "stu(\"王二\", \"玉帝的爷爷，我也没有见过\", \"玉帝怎么出生的呢？我去问问我爸爸吧！\")\n",
    "stu(\"李三\", \"玉帝出生的时候\", \"王二的爸爸在场，他亲眼见证了的\")"
   ]
  },
  {
   "cell_type": "code",
   "execution_count": 57,
   "metadata": {},
   "outputs": [
    {
     "name": "stdout",
     "output_type": "stream",
     "text": [
      "hello,我先自我介绍，来自广寒宫，过得时间大家都快，你们可以提问\n",
      "<class 'tuple'>\n",
      "$ $ $ $ $ $ $ $ $ $ $ $ $ $ $ $ $ $ $ $ \n"
     ]
    }
   ],
   "source": [
    "# 收集参数案例\n",
    "# 说明收集参数可以不带任何实参调用，此时收集参数为空tuple\n",
    "stu()"
   ]
  },
  {
   "cell_type": "markdown",
   "metadata": {},
   "source": [
    "收集参数之关键字收集参数\n",
    "\n",
    "把关键字参数按字典格式存入收集参数\n",
    "语法：\n",
    "\n",
    "  def func( **kwargs):\n",
    "      func_body\n",
    "\n",
    "  # 调用：\n",
    "  func(p1=v1, p2=v2, p3=v3........)\n",
    "kwargs一般约定俗成\n",
    "调用的时候，把多余的关键字参数放入kwargs\n",
    "访问kwargs需要按字典格式访问"
   ]
  },
  {
   "cell_type": "code",
   "execution_count": null,
   "metadata": {
    "collapsed": true
   },
   "outputs": [],
   "source": [
    "# 关键字收集参数案例\n",
    "# 使用时使用 ** 表示 \n",
    "# 自我介绍\n",
    "# 调用的时候需要使用关键字参数调用"
   ]
  },
  {
   "cell_type": "code",
   "execution_count": 64,
   "metadata": {},
   "outputs": [
    {
     "name": "stdout",
     "output_type": "stream",
     "text": [
      "hello,我先自我介绍，来自广寒宫，过得时间大家都快，你们可以提问\n",
      "<class 'dict'>\n",
      "name --- 刘五\n",
      "addr --- 广寒宫产房\n",
      "work --- 助产工作\n",
      "@ @ @ @ @ @ @ @ @ @ @ @ @ @ @ @ @ @ @ @ @ @ @ @ @ @ @ @ @ @ \n"
     ]
    }
   ],
   "source": [
    "def stu(**kwrags):\n",
    "    print(\"hello,我先自我介绍，来自广寒宫，过得时间大家都快，你们可以提问\")\n",
    "    # type函数用来检测使用类型\n",
    "    # 在函数体内，使用关键字收集参数时，可以不用带上**\n",
    "    print(type(kwrags))\n",
    "    for k,v in kwrags.items():\n",
    "        print(k, \"---\", v)\n",
    "    \n",
    "    print(\"@ \"*30)\n",
    "stu(name=\"刘五\", addr=\"广寒宫产房\", work=\"助产工作\")"
   ]
  },
  {
   "cell_type": "markdown",
   "metadata": {},
   "source": [
    "收集参数混合调用的顺序问题\n",
    "    收集参数，关键字参数，普通参数可以混合使用\n",
    "    使用规则就是，普通参数和关键字参数优先\n",
    "    定义的时候一般找普通参数，关键字参数，收集参数tuple，收集参数dict"
   ]
  },
  {
   "cell_type": "code",
   "execution_count": 110,
   "metadata": {},
   "outputs": [
    {
     "name": "stdout",
     "output_type": "stream",
     "text": [
      "广寒宫今天召开2019年大会\n",
      "我叫玉帝，都知道我118岁了\n",
      "我都给广寒宫的人都发红包了\n",
      "- - - - - - - - - - - - - - - - - - - - - - - - - - - - - - \n",
      "广寒宫今天召开2019年大会\n",
      "我叫狗屋，都知道我88岁了\n",
      "我有红包收到玉帝老大给我发的红包\n",
      "希望来年继续有红包吧！\n",
      "- - - - - - - - - - - - - - - - - - - - - - - - - - - - - - \n",
      "广寒宫今天召开2019年大会\n",
      "我叫玉帝，都知道我118岁了\n",
      "我都给广寒宫的人都发红包了\n",
      "- - - - - - - - - - - - - - - - - - - - - - - - - - - - - - \n",
      "广寒宫今天召开2019年大会\n",
      "我叫三儿，都知道我44岁了\n",
      "我有收到玉帝老大给我发的红包\n",
      "希望来年继续有红包吧！\n",
      "- - - - - - - - - - - - - - - - - - - - - - - - - - - - - - \n",
      "广寒宫今天召开2019年大会\n",
      "我叫玉帝，都知道我44岁了\n",
      "我有收到玉帝老大给我发的红包\n",
      "希望来年继续有红包吧！\n",
      "wrok2 -- 玉帝怎么出生的呢\n",
      "- - - - - - - - - - - - - - - - - - - - - - - - - - - - - - \n"
     ]
    }
   ],
   "source": [
    "# 混合参数调用顺序案例\n",
    "'''\n",
    "使用规则就是，普通参数和关键字参数优先\n",
    "定义的时候一般找普通参数，关键字参数，收集参数tuple，收集参数dict\n",
    "'''\n",
    "def stu(name, age, *args, hobby=\"没有\", **kwargs):\n",
    "    print(\"广寒宫今天召开2019年大会\")\n",
    "    print(\"我叫{0}，都知道我{1}岁了\".format(name,age))\n",
    "    if hobby==\"没有\":\n",
    "        print(\"我都给广寒宫的人都发红包了\")\n",
    "    else:\n",
    "        print(\"我{0}收到玉帝老大给我发的红包\".format(hobby))\n",
    "        print(\"希望来年继续有红包吧！\")\n",
    "    for i in args:\n",
    "        print(i)\n",
    "    for k,v in kwargs.items():\n",
    "        print(k, \"--\", v)\n",
    "    print(\"- \"*30)\n",
    "    \n",
    "name = \"玉帝\"\n",
    "age = 118\n",
    "stu(name,age)\n",
    "stu(name=\"狗屋\", age=88, hobby=\"有红包\")\n",
    "stu( name, age, hobby=\"没有\")\n",
    "stu(\"三儿\", age=44, hobby=\"有\", )\n",
    "stu(name,age=44,  hobby=\"有\",  wrok2=\"玉帝怎么出生的呢\")"
   ]
  },
  {
   "cell_type": "code",
   "execution_count": null,
   "metadata": {},
   "outputs": [
    {
     "name": "stdout",
     "output_type": "stream",
     "text": [
      "请输入密码： fff\n",
      "密码不正确，请重新输入\n"
     ]
    }
   ],
   "source": [
    "# 密码核对及次数限制\n",
    "password = \"abc123\"\n",
    "times = 3\n",
    "while times:\n",
    "    input_password = input(\"请输入密码： \")\n",
    "    if \"*\" in input_password:\n",
    "        print(\"*不能输入，请重新输入\")\n",
    "    else:\n",
    "        if input_password == password:\n",
    "            print(\"密码正确\")\n",
    "            break\n",
    "        else:\n",
    "            print(\"密码不正确，请重新输入\")\n",
    "            times -=1\n"
   ]
  },
  {
   "cell_type": "code",
   "execution_count": null,
   "metadata": {
    "collapsed": true
   },
   "outputs": [],
   "source": []
  },
  {
   "cell_type": "code",
   "execution_count": 12,
   "metadata": {},
   "outputs": [
    {
     "ename": "TypeError",
     "evalue": "'type' object is not subscriptable",
     "traceback": [
      "\u001b[0;31m---------------------------------------------------------------------------\u001b[0m",
      "\u001b[0;31mTypeError\u001b[0m                                 Traceback (most recent call last)",
      "\u001b[0;32m<ipython-input-12-427aced942cd>\u001b[0m in \u001b[0;36m<module>\u001b[0;34m()\u001b[0m\n\u001b[1;32m      1\u001b[0m \u001b[0;31m# 打印100--999之间的所有水仙花数字\u001b[0m\u001b[0;34m\u001b[0m\u001b[0;34m\u001b[0m\u001b[0m\n\u001b[1;32m      2\u001b[0m \u001b[0;32mfor\u001b[0m \u001b[0mi\u001b[0m \u001b[0;32min\u001b[0m \u001b[0mrange\u001b[0m\u001b[0;34m(\u001b[0m\u001b[0;36m100\u001b[0m\u001b[0;34m,\u001b[0m\u001b[0;36m1000\u001b[0m\u001b[0;34m)\u001b[0m\u001b[0;34m:\u001b[0m\u001b[0;34m\u001b[0m\u001b[0m\n\u001b[0;32m----> 3\u001b[0;31m     \u001b[0mtemp\u001b[0m \u001b[0;34m=\u001b[0m \u001b[0mlist\u001b[0m\u001b[0;34m[\u001b[0m\u001b[0mstr\u001b[0m\u001b[0;34m(\u001b[0m\u001b[0mi\u001b[0m\u001b[0;34m)\u001b[0m\u001b[0;34m]\u001b[0m\u001b[0;34m\u001b[0m\u001b[0m\n\u001b[0m\u001b[1;32m      4\u001b[0m     \u001b[0ma\u001b[0m \u001b[0;34m=\u001b[0m \u001b[0mtemp\u001b[0m\u001b[0;34m(\u001b[0m\u001b[0;36m0\u001b[0m\u001b[0;34m)\u001b[0m\u001b[0;34m\u001b[0m\u001b[0m\n\u001b[1;32m      5\u001b[0m     \u001b[0mb\u001b[0m \u001b[0;34m=\u001b[0m \u001b[0mtemp\u001b[0m\u001b[0;34m(\u001b[0m\u001b[0;36m1\u001b[0m\u001b[0;34m)\u001b[0m\u001b[0;34m\u001b[0m\u001b[0m\n",
      "\u001b[0;31mTypeError\u001b[0m: 'type' object is not subscriptable"
     ],
     "output_type": "error"
    }
   ],
   "source": [
    "# 打印100--999之间的所有水仙花数字\n",
    "for i in range(100,1000):\n",
    "    temp = list(str(i))\n",
    "    a = temp(0)\n",
    "    b = temp(1)\n",
    "    c = temp(2)\n",
    "    if a**3 + b**3 + c**3 ==i:\n",
    "        print(i)"
   ]
  },
  {
   "cell_type": "code",
   "execution_count": 18,
   "metadata": {},
   "outputs": [
    {
     "name": "stdout",
     "output_type": "stream",
     "text": [
      "026\n",
      "035\n",
      "116\n",
      "125\n",
      "134\n",
      "206\n",
      "215\n",
      "224\n",
      "233\n",
      "305\n",
      "314\n",
      "323\n",
      "332\n"
     ]
    }
   ],
   "source": [
    "# 排列红、黄、绿三球取出组合问题\n",
    "for red in range(0,4):\n",
    "    for yellow in range(0,4):\n",
    "        for bule in range(2,7):\n",
    "            if red + yellow + bule ==8:\n",
    "                print(\"{0}\".format(red), end=\"\")\n",
    "                print(\"{0}\".format(yellow), end=\"\")\n",
    "                print(\"{0}\".format(bule), end=\"\")\n",
    "                print()"
   ]
  },
  {
   "cell_type": "markdown",
   "metadata": {},
   "source": [
    "变量作用域\n",
    "    变量由作用范围限制\n",
    "    分类：按照作用域分类\n",
    "    全局(global): 在函数外部定义\n",
    "    局部（local)：在函数内部定义\n",
    "    变量的作用范围：\n",
    "    全局变量：在整个全局范围都有效\n",
    "    全局变量在局部可以使用（即函数内部可以方位函数外部定义的变量）\n",
    "    局部变量在局部范围可以使用\n",
    "    局部变量在全局范围无法使用\n",
    "    LEGB原则\n",
    "    L（Local）局部作用域\n",
    "    E（Enclosing function locale）外部嵌套函数作用域\n",
    "    G（Global module）函数定义所在模块作用域\n",
    "    B（Buildin）： python内置魔抗的作用域"
   ]
  },
  {
   "cell_type": "markdown",
   "metadata": {},
   "source": [
    "eval()函数\n",
    "把一个字符串当成一个表达式来执行， 返回表达式执行后的结果\n",
    "语法：\n",
    "\n",
    "      eval(string_code, globals=None, locals=None)"
   ]
  },
  {
   "cell_type": "markdown",
   "metadata": {},
   "source": [
    "exec()函数\n",
    "跟eval功能类似， 但是，不返回结果\n",
    "语法：\n",
    "\n",
    "  exec(string_code, globals=None, locals=None)"
   ]
  },
  {
   "cell_type": "code",
   "execution_count": 19,
   "metadata": {},
   "outputs": [
    {
     "name": "stdout",
     "output_type": "stream",
     "text": [
      "300\n",
      "300\n"
     ]
    }
   ],
   "source": [
    "x = 100\n",
    "y = 200\n",
    "z1 = x+y\n",
    "z2 = eval(\"x+y\")\n",
    "print(z1)\n",
    "print(z2)"
   ]
  },
  {
   "cell_type": "code",
   "execution_count": 20,
   "metadata": {},
   "outputs": [
    {
     "name": "stdout",
     "output_type": "stream",
     "text": [
      "300\n",
      "None\n"
     ]
    }
   ],
   "source": [
    "x = 100\n",
    "y = 200\n",
    "z1 = x+y\n",
    "z2 =exec(\"x+y\")\n",
    "print(z1)\n",
    "print(z2)"
   ]
  },
  {
   "cell_type": "markdown",
   "metadata": {},
   "source": [
    "#递归函数\n",
    "    函数直接或者间接调用自身\n",
    "    优点：简洁，理解容易\n",
    "    缺点：对递归深度有限制，消耗资源大\n",
    "    python对递归深度有限制，超过限制报错\n",
    "    在写递归程序的时候，一定注意结束条件"
   ]
  },
  {
   "cell_type": "code",
   "execution_count": 1,
   "metadata": {},
   "outputs": [
    {
     "name": "stdout",
     "output_type": "stream",
     "text": [
      "55\n"
     ]
    }
   ],
   "source": [
    "# 斐波那契额数列\n",
    "# 一列数字，第一个值是1， 第二个也是1， 从第三个开始，每一个数字的值等于前两个数字出现的值的和\n",
    "# 数学公式为： f(1) = 1, f(2) = 1, f(n) = f(n-1) + f(n-2)\n",
    "# 例如： 1,1，2，3,5,8,13.。。。。。。。。\n",
    "def fbn(n):\n",
    "    if n==1:\n",
    "        return 1\n",
    "    if n==2:\n",
    "        return 1\n",
    "    return fbn(n-1) + fbn(n-2)\n",
    "    \n",
    "print(fbn(10))\n",
    "    "
   ]
  },
  {
   "cell_type": "code",
   "execution_count": 4,
   "metadata": {},
   "outputs": [
    {
     "name": "stdout",
     "output_type": "stream",
     "text": [
      "-24\n"
     ]
    }
   ],
   "source": [
    "# 斐波那契额数列\n",
    "# 一列数字，第一个值是-8， 第二个也是-8， 从第三个开始，每一个数字的值等于前两个数字出现的值的和\n",
    "# 数学公式为： f(1) = -8, f(2) = -8, f(n) = f(n-1) + f(n-2)\n",
    "# 例如： -8,-8，-16,-24,-40,-64,-104........\n",
    "def fbn(n):\n",
    "    if n==1:\n",
    "        return -8\n",
    "    if n==2:\n",
    "        return -8\n",
    "    return fbn(n-1) + fbn(n-2)\n",
    "    \n",
    "print(fbn(4))\n",
    "    "
   ]
  },
  {
   "cell_type": "markdown",
   "metadata": {},
   "source": [
    "内置数据结构（变量类型）\n",
    "    list\n",
    "    set\n",
    "    dict\n",
    "    tuple \n",
    "    "
   ]
  },
  {
   "cell_type": "code",
   "execution_count": 5,
   "metadata": {},
   "outputs": [
    {
     "name": "stdout",
     "output_type": "stream",
     "text": [
      "[]\n"
     ]
    }
   ],
   "source": [
    "'''\n",
    "list(列表）\n",
    "一组由顺序的数据的组合\n",
    "'''\n",
    "# 空列表\n",
    "l1 = []\n",
    "print(l1)"
   ]
  },
  {
   "cell_type": "code",
   "execution_count": 6,
   "metadata": {},
   "outputs": [
    {
     "name": "stdout",
     "output_type": "stream",
     "text": [
      "[100]\n"
     ]
    }
   ],
   "source": [
    "#带值列表\n",
    "l2 = [100]\n",
    "print(l2)"
   ]
  },
  {
   "cell_type": "code",
   "execution_count": 7,
   "metadata": {},
   "outputs": [
    {
     "name": "stdout",
     "output_type": "stream",
     "text": [
      "[3, 2, 8, 5, 6, 3, 1]\n"
     ]
    }
   ],
   "source": [
    "#列7表带多个值\n",
    "l3 = [3,2,8,5,6,3,1]\n",
    "print(l3)"
   ]
  },
  {
   "cell_type": "code",
   "execution_count": 8,
   "metadata": {},
   "outputs": [
    {
     "name": "stdout",
     "output_type": "stream",
     "text": [
      "[]\n"
     ]
    }
   ],
   "source": [
    "#使用list\n",
    "l4 = list()\n",
    "print(l4)"
   ]
  },
  {
   "cell_type": "markdown",
   "metadata": {},
   "source": [
    "列表常用操作\n",
    "    访问\n",
    "        使用下标操作（索引）\n",
    "        列表的位置是从0开始\n",
    "    分片操作\n",
    "        对列表进行任意一段的截取\n",
    "        l[:]"
   ]
  },
  {
   "cell_type": "code",
   "execution_count": 9,
   "metadata": {},
   "outputs": [
    {
     "name": "stdout",
     "output_type": "stream",
     "text": [
      "4\n"
     ]
    }
   ],
   "source": [
    "# 下标访问操作\n",
    "l = [3,2,1,4,6,3,2]\n",
    "print(l[3])"
   ]
  },
  {
   "cell_type": "code",
   "execution_count": 10,
   "metadata": {},
   "outputs": [
    {
     "name": "stdout",
     "output_type": "stream",
     "text": [
      "[2, 1]\n"
     ]
    }
   ],
   "source": [
    "# 分片操作\n",
    "# 注意截取的范围，包含左边的下标值，不包含右边的下标值\n",
    "print(l[1:3])"
   ]
  },
  {
   "cell_type": "code",
   "execution_count": 12,
   "metadata": {},
   "outputs": [
    {
     "name": "stdout",
     "output_type": "stream",
     "text": [
      "[3, 2, 1, 4]\n",
      "[1, 4, 6, 3, 2]\n"
     ]
    }
   ],
   "source": [
    "# 分片操作\n",
    "# 下标值可以为空，如果不写，左边下标值默认为0， 右边下标值为最大数加一，即表示截取到最后一个数据\n",
    "print(l[:4])\n",
    "print(l[2:])"
   ]
  },
  {
   "cell_type": "code",
   "execution_count": 13,
   "metadata": {
    "scrolled": true
   },
   "outputs": [
    {
     "name": "stdout",
     "output_type": "stream",
     "text": [
      "[3, 2, 1, 4, 6, 3, 2]\n",
      "[2, 1, 4, 6, 3]\n",
      "[2, 4, 3]\n",
      "[1, 4, 6, 3, 2]\n"
     ]
    }
   ],
   "source": [
    "print(l)\n",
    "# 分片可以控制增长幅度，默认增长幅度为1\n",
    "print(l[1:6:1])\n",
    "\n",
    "# 打印从下标1开始的数字，每次隔一个\n",
    "print(l[1:6:2])\n",
    "\n",
    "# 下标可以超出范围，超出后不在考虑多余下标内容\n",
    "print(l[2:10])\n",
    "\n",
    "# 下标值，增长幅度可以为负数\n",
    "# 规定： 数组最后一个数字的下标是-1"
   ]
  },
  {
   "cell_type": "code",
   "execution_count": 16,
   "metadata": {},
   "outputs": [
    {
     "name": "stdout",
     "output_type": "stream",
     "text": [
      "[3, 2, 1, 4, 6, 3, 2]\n",
      "[]\n",
      "[4, 6]\n"
     ]
    }
   ],
   "source": [
    "# 为负数，表明顺序是从右往左\n",
    "# 分片之负数下标\n",
    "print(l)\n",
    "print(l[-2:-4])\n",
    "print(l[-4:-2])"
   ]
  },
  {
   "cell_type": "markdown",
   "metadata": {},
   "source": [
    "分片操作是生成一个新的list\n",
    "    内置函数id，负责显示一个变量或者数据的唯一确定编号\n"
   ]
  },
  {
   "cell_type": "code",
   "execution_count": 18,
   "metadata": {},
   "outputs": [
    {
     "name": "stdout",
     "output_type": "stream",
     "text": [
      "93921037740352\n",
      "93921037743552\n",
      "93921037740352\n",
      "101\n",
      "100\n"
     ]
    }
   ],
   "source": [
    "# id函数举例\n",
    "a = 100\n",
    "b = 200\n",
    "print(id(a))\n",
    "print(id(b))\n",
    "\n",
    "c = a\n",
    "print(id(c))\n",
    "\n",
    "# 如果a跟c只想一份数据，则更改a的值同样也会更改c的值\n",
    "# 但是，显示结果并非如此，为什么？\n",
    "a = 101\n",
    "print(a)\n",
    "print(c)"
   ]
  },
  {
   "cell_type": "code",
   "execution_count": 19,
   "metadata": {},
   "outputs": [
    {
     "name": "stdout",
     "output_type": "stream",
     "text": [
      "140122570961928\n",
      "140122571364296\n",
      "140122571364296\n",
      "[3, 100, 56, 76, 32, 21, 43, 5]\n",
      "[3, 4, 56, 76, 32, 21, 43, 5]\n",
      "[3, 100, 56, 76, 32, 21, 43, 5]\n",
      "[3, 100, 56, 76, 32, 21, 43, 5]\n"
     ]
    }
   ],
   "source": [
    "# 通过id可以直接判断出分片是从新生成了一份数据还是使用的同一份数据\n",
    "l = [3,4,56,76,32,21,43,5]\n",
    "ll = l[:]\n",
    "lll = ll\n",
    "# 如果两个id值一样，则表明分片产生的列表是使用的同一地址同一份数据\n",
    "# 否则，则表明分片是从新生成了一份数据，即一个新的列表，然后把数值拷贝到新列表中\n",
    "print(id(l))\n",
    "print(id(ll))\n",
    "print(id(lll))\n",
    "\n",
    "# 通过id知道，ll和lll是同一份数据，验证代码如下\n",
    "l[1] = 100\n",
    "print(l)\n",
    "print(ll)\n",
    "\n",
    "ll[1] = 100\n",
    "print(ll)\n",
    "print(lll)"
   ]
  },
  {
   "cell_type": "markdown",
   "metadata": {
    "collapsed": true
   },
   "source": [
    "# 汉诺塔 递归函数应用\n",
    "    汉诺塔递归实现\n",
    "        n: 代表盘子数量\n",
    "        a: 代表第一个塔---开始塔\n",
    "        b: 代表第二个塔---中间塔\n",
    "        c: 代表第三个塔---目标塔\n"
   ]
  },
  {
   "cell_type": "code",
   "execution_count": 13,
   "metadata": {
    "scrolled": true
   },
   "outputs": [
    {
     "ename": "IndentationError",
     "evalue": "unexpected indent (<ipython-input-13-86013fc13821>, line 12)",
     "traceback": [
      "\u001b[0;36m  File \u001b[0;32m\"<ipython-input-13-86013fc13821>\"\u001b[0;36m, line \u001b[0;32m12\u001b[0m\n\u001b[0;31m    print(a, \"---\", c)\u001b[0m\n\u001b[0m    ^\u001b[0m\n\u001b[0;31mIndentationError\u001b[0m\u001b[0;31m:\u001b[0m unexpected indent\n"
     ],
     "output_type": "error"
    }
   ],
   "source": [
    "def hannt(n, a, b, c):\n",
    "    if n==1:\n",
    "        print(a, \"---\", c)\n",
    "        return None\n",
    "    if n==2:\n",
    "        print(a, \"---\", b)\n",
    "        print(a, \"---\", c)\n",
    "        print(b, \"---\", c)\n",
    "        return None\n",
    "    \n",
    "    hannt(n-1, a, c, b)\n",
    "        print(a, \"---\", c)\n",
    "        \n",
    "    hannt(n-1, b, a, c)\n",
    "    \n",
    "a = \"A\"\n",
    "b = \"B\"\n",
    "c = \"C\"\n",
    "n = 1\n",
    "hannt(4, a, b, c)\n",
    "    \n"
   ]
  },
  {
   "cell_type": "code",
   "execution_count": null,
   "metadata": {
    "collapsed": true
   },
   "outputs": [],
   "source": []
  },
  {
   "cell_type": "code",
   "execution_count": 12,
   "metadata": {},
   "outputs": [
    {
     "name": "stdout",
     "output_type": "stream",
     "text": [
      "A --> B\n",
      "A --> C\n",
      "B --> C\n",
      "A --> B\n",
      "C --> A\n",
      "C --> B\n",
      "A --> B\n",
      "A --> C\n",
      "B --> C\n",
      "B --> A\n",
      "C --> A\n",
      "B --> C\n",
      "A --> B\n",
      "A --> C\n",
      "B --> C\n"
     ]
    }
   ],
   "source": [
    "def hano(n, a, b, c):\n",
    "    '''\n",
    "    汉诺塔的递归实现\n",
    "    n：代表几个盘子\n",
    "    a：代表第一个塔，开始的塔\n",
    "    b：代表第二个塔，中间过渡的塔\n",
    "    c：代表第三个塔, 目标塔\n",
    "    '''\n",
    "    if n == 1:\n",
    "        print(a, \"-->\", c)\n",
    "        return None\n",
    "    '''\n",
    "    \n",
    "    if n == 2:\n",
    "        print(a, \"-->\", b)\n",
    "        print(a, \"-->\", c)\n",
    "        print(b, \"-->\", c)\n",
    "        return None\n",
    "    '''\n",
    "    # 把n-1个盘子，从a塔借助于c塔，挪到b塔上去\n",
    "    hano(n-1, a, c, b)\n",
    "    print(a, \"-->\", c)\n",
    "    # 把n-1个盘子，从b塔，借助于a塔，挪到c塔上去\n",
    "    hano(n-1,b, a, c)\n",
    "    \n",
    "a = \"A\"\n",
    "b = \"B\"\n",
    "c = \"C\"\n",
    "\n",
    "n = 1\n",
    "hano(4, a, b, c)"
   ]
  },
  {
   "cell_type": "markdown",
   "metadata": {},
   "source": [
    "# list列表"
   ]
  },
  {
   "cell_type": "code",
   "execution_count": 16,
   "metadata": {},
   "outputs": [
    {
     "name": "stdout",
     "output_type": "stream",
     "text": [
      "[1, 2, 4, 5, 6]\n"
     ]
    }
   ],
   "source": [
    "# del 删除\n",
    "# 如果使用del之后，id的值和删除前不一样，则说明删除生成了一个新的list\n",
    "# del一个变量后不能在继续使用此变量\n",
    "a = [1,2,3,4,5,6]\n",
    "del a[2]\n",
    "print(a)"
   ]
  },
  {
   "cell_type": "code",
   "execution_count": 18,
   "metadata": {},
   "outputs": [
    {
     "name": "stdout",
     "output_type": "stream",
     "text": [
      "[1, 2, 3, 4, 5, 5, 6, 7, 8, 9]\n",
      "- - - - - - - - - - - - - - - - - - - - \n",
      "[1, 2, 3, 4, 5, 5, 6, 7, 8, 9, 'a', 'b', 'c']\n"
     ]
    }
   ],
   "source": [
    "# 使用加号链接两个列表\n",
    "a = [1,2,3,4,5]\n",
    "b = [5,6,7,8,9]\n",
    "c = a + b\n",
    "print(c)\n",
    "print(\"- \"*20)\n",
    "d =['a','b','c']\n",
    "c = a + b +d\n",
    "print(c)"
   ]
  },
  {
   "cell_type": "code",
   "execution_count": 19,
   "metadata": {},
   "outputs": [
    {
     "name": "stdout",
     "output_type": "stream",
     "text": [
      "[1, 2, 3, 4, 5, 1, 2, 3, 4, 5, 1, 2, 3, 4, 5]\n"
     ]
    }
   ],
   "source": [
    "# 使用乘号操作列表\n",
    "# 相当于把N个列表相加\n",
    "a =[1,2,3,4,5]\n",
    "b = a  *3\n",
    "print(b)"
   ]
  },
  {
   "cell_type": "code",
   "execution_count": 20,
   "metadata": {},
   "outputs": [
    {
     "name": "stdout",
     "output_type": "stream",
     "text": [
      "False\n"
     ]
    }
   ],
   "source": [
    "# 成员资格运算\n",
    "# in 与 not in 判断是否在列表里面，返回布尔值\n",
    "a =[1,2,3,4,5]\n",
    "b =8\n",
    "print(b in a )"
   ]
  },
  {
   "cell_type": "code",
   "execution_count": 21,
   "metadata": {},
   "outputs": [
    {
     "name": "stdout",
     "output_type": "stream",
     "text": [
      "True\n"
     ]
    }
   ],
   "source": [
    "a =[1,2,3,4,5]\n",
    "b =8\n",
    "print(b not in a)\n"
   ]
  },
  {
   "cell_type": "markdown",
   "metadata": {},
   "source": [
    "# 列表的遍历\n",
    "- for\n",
    "- while"
   ]
  },
  {
   "cell_type": "code",
   "execution_count": 22,
   "metadata": {},
   "outputs": [
    {
     "name": "stdout",
     "output_type": "stream",
     "text": [
      "1\n",
      "2\n",
      "3\n",
      "4\n",
      "5\n"
     ]
    }
   ],
   "source": [
    "# fon in list\n",
    "a =[1,2,3,4,5]\n",
    "for i in a:\n",
    "    print(i)"
   ]
  },
  {
   "cell_type": "code",
   "execution_count": 26,
   "metadata": {},
   "outputs": [
    {
     "name": "stdout",
     "output_type": "stream",
     "text": [
      "i love wangxiaojing\n"
     ]
    }
   ],
   "source": [
    "b = [\"i love wangxiaojing\"]\n",
    "for i in b:\n",
    "    print(i)"
   ]
  },
  {
   "cell_type": "code",
   "execution_count": 27,
   "metadata": {},
   "outputs": [
    {
     "name": "stdout",
     "output_type": "stream",
     "text": [
      "1\n",
      "2\n",
      "3\n",
      "4\n",
      "5\n",
      "6\n",
      "7\n",
      "8\n",
      "9\n"
     ]
    }
   ],
   "source": [
    "# range()\n",
    "# in 后面的变量要是可以可迭代的内容\n",
    "for i in range(1,10):\n",
    "    print(i)"
   ]
  },
  {
   "cell_type": "code",
   "execution_count": null,
   "metadata": {
    "collapsed": true
   },
   "outputs": [],
   "source": [
    "# while 循环访问list\n",
    "# while 不用来遍历list"
   ]
  },
  {
   "cell_type": "code",
   "execution_count": 34,
   "metadata": {},
   "outputs": [
    {
     "name": "stdout",
     "output_type": "stream",
     "text": [
      "one 1\n",
      "two 2\n",
      "three 3\n"
     ]
    }
   ],
   "source": [
    "# 双层列表循环\n",
    "a =[[\"one\", 1],[\"two\", 2],[\"three\", 3]]\n",
    "for k,v in a:\n",
    "    print(k,v)"
   ]
  },
  {
   "cell_type": "code",
   "execution_count": 35,
   "metadata": {},
   "outputs": [
    {
     "ename": "ValueError",
     "evalue": "too many values to unpack (expected 2)",
     "traceback": [
      "\u001b[0;31m---------------------------------------------------------------------------\u001b[0m",
      "\u001b[0;31mValueError\u001b[0m                                Traceback (most recent call last)",
      "\u001b[0;32m<ipython-input-35-762a184232e7>\u001b[0m in \u001b[0;36m<module>\u001b[0;34m()\u001b[0m\n\u001b[1;32m      1\u001b[0m \u001b[0;31m# 双层列表循环变异\u001b[0m\u001b[0;34m\u001b[0m\u001b[0;34m\u001b[0m\u001b[0m\n\u001b[1;32m      2\u001b[0m \u001b[0ma\u001b[0m \u001b[0;34m=\u001b[0m \u001b[0;34m[\u001b[0m\u001b[0;34m[\u001b[0m\u001b[0;34m\"one\"\u001b[0m\u001b[0;34m,\u001b[0m\u001b[0;36m1\u001b[0m\u001b[0;34m,\u001b[0m\u001b[0;34m\"eins\"\u001b[0m\u001b[0;34m]\u001b[0m\u001b[0;34m,\u001b[0m\u001b[0;34m[\u001b[0m\u001b[0;34m\"two\"\u001b[0m\u001b[0;34m,\u001b[0m\u001b[0;36m2\u001b[0m\u001b[0;34m]\u001b[0m\u001b[0;34m,\u001b[0m\u001b[0;34m[\u001b[0m\u001b[0;34m\"three\"\u001b[0m\u001b[0;34m,\u001b[0m\u001b[0;36m3\u001b[0m\u001b[0;34m,\u001b[0m\u001b[0;36m4\u001b[0m\u001b[0;34m,\u001b[0m\u001b[0;36m5\u001b[0m\u001b[0;34m,\u001b[0m\u001b[0;36m6\u001b[0m\u001b[0;34m]\u001b[0m\u001b[0;34m]\u001b[0m\u001b[0;34m\u001b[0m\u001b[0m\n\u001b[0;32m----> 3\u001b[0;31m \u001b[0;32mfor\u001b[0m \u001b[0mk\u001b[0m\u001b[0;34m,\u001b[0m\u001b[0mv\u001b[0m \u001b[0;32min\u001b[0m \u001b[0ma\u001b[0m\u001b[0;34m:\u001b[0m\u001b[0;34m\u001b[0m\u001b[0m\n\u001b[0m\u001b[1;32m      4\u001b[0m     \u001b[0mprint\u001b[0m\u001b[0;34m(\u001b[0m\u001b[0mk\u001b[0m\u001b[0;34m,\u001b[0m\u001b[0mv\u001b[0m\u001b[0;34m)\u001b[0m\u001b[0;34m\u001b[0m\u001b[0m\n",
      "\u001b[0;31mValueError\u001b[0m: too many values to unpack (expected 2)"
     ],
     "output_type": "error"
    }
   ],
   "source": [
    "# 双层列表循环变异\n",
    "# 双层列表循环的类似的键--值 个数相对同数量\n",
    "a = [[\"one\",1,\"eins\"],[\"two\",2],[\"three\",3,4,5,6]]\n",
    "for k,v in a:\n",
    "    print(k,v)"
   ]
  },
  {
   "cell_type": "code",
   "execution_count": 39,
   "metadata": {},
   "outputs": [
    {
     "name": "stdout",
     "output_type": "stream",
     "text": [
      "one -- 1 --- eins\n",
      "two -- 2 --- zwei\n",
      "three -- 3 --- idning\n"
     ]
    }
   ],
   "source": [
    "# 双层列表循环变异\n",
    "# 双层列表循环的类似的键--值 个数相对同数量\n",
    "a = [[\"one\",1,\"eins\"],[\"two\",2,\"zwei\"],[\"three\",3,\"idning\"]]\n",
    "for k,v,w in a:\n",
    "    print(k,\"--\",v,\"---\",w)"
   ]
  },
  {
   "cell_type": "markdown",
   "metadata": {},
   "source": [
    "# 列表内涵：list content\n",
    "- 通过简单方法创作列表"
   ]
  },
  {
   "cell_type": "code",
   "execution_count": 44,
   "metadata": {},
   "outputs": [
    {
     "name": "stdout",
     "output_type": "stream",
     "text": [
      "['a', 'b', 'c']\n"
     ]
    }
   ],
   "source": [
    "# for 创建\n",
    "a =['a','b','c']\n",
    "# 用list a 创建一个list b\n",
    "# 下面代码的含义，对于所有a中的元素，逐个放入新列表b中\n",
    "b =[i for i in a]\n",
    "print(b)\n"
   ]
  },
  {
   "cell_type": "code",
   "execution_count": 51,
   "metadata": {},
   "outputs": [
    {
     "name": "stdout",
     "output_type": "stream",
     "text": [
      "[1, 2, 3, 4, 5]\n",
      "********************\n",
      "[10, 20, 30, 40, 50]\n"
     ]
    }
   ],
   "source": [
    "# 对a中所有元素乘以10，生成新的列表b\n",
    "a =[1,2,3,4,5]\n",
    "# 用list a  生成list b\n",
    "b =[i for i in a]\n",
    "print(b)\n",
    "# 分隔符\n",
    "print(\"*\"*20)\n",
    "# 把b 表中元素乘以10\n",
    "b =[m*10 for m in a]\n",
    "print(b)"
   ]
  },
  {
   "cell_type": "code",
   "execution_count": 59,
   "metadata": {},
   "outputs": [
    {
     "name": "stdout",
     "output_type": "stream",
     "text": [
      "[1, 2, 3, 4, 5, 6, 7, 8, 9, 10, 11, 12, 13, 14, 15, 16, 17, 18, 19, 20, 21, 22, 23, 24, 25, 26, 27, 28, 29, 30, 31, 32, 33, 34] \n",
      "- - - - - - - - - - - - - - - - - - - - \n",
      "[2, 4, 6, 8, 10, 12, 14, 16, 18, 20, 22, 24, 26, 28, 30, 32, 34]\n"
     ]
    }
   ],
   "source": [
    "# 过滤原来list 表中的内容,放入新列表\n",
    "a = [x for x in range(1,35)]\n",
    "print(a, end=\" \")\n",
    "print()\n",
    "# -分隔符\n",
    "print('- '*20)\n",
    "# 过滤奇数，保留偶数放入新列表中\n",
    "b = [m for m in a if m%2==0]\n",
    "print(b)\n"
   ]
  },
  {
   "cell_type": "code",
   "execution_count": 64,
   "metadata": {},
   "outputs": [
    {
     "name": "stdout",
     "output_type": "stream",
     "text": [
      "[1, 2, 3]\n",
      "[100, 200, 300]\n",
      "[101, 201, 301, 102, 202, 302, 103, 203, 303]\n"
     ]
    }
   ],
   "source": [
    "# 列表生成式可以嵌套\n",
    "# 由2个列表a,b\n",
    "a = [i for i in range(1,4)]\n",
    "print(a)\n",
    "b = [i for i in range(100,400) if i%100==0]\n",
    "print(b)\n",
    "c =[m+n for m in a for n in b]\n",
    "print(c)"
   ]
  },
  {
   "cell_type": "markdown",
   "metadata": {},
   "source": [
    "# 关于列表的常用函数"
   ]
  },
  {
   "cell_type": "code",
   "execution_count": 66,
   "metadata": {},
   "outputs": [
    {
     "name": "stdout",
     "output_type": "stream",
     "text": [
      "99\n"
     ]
    }
   ],
   "source": [
    "# len: 求列表的长度\n",
    "a = [x for x in range(1,100)]\n",
    "print(len(a))"
   ]
  },
  {
   "cell_type": "code",
   "execution_count": 71,
   "metadata": {},
   "outputs": [
    {
     "name": "stdout",
     "output_type": "stream",
     "text": [
      "['1', '2', '3']\n",
      "* * * * * * * * * * * * * * * * * * * * \n",
      "['i', 'l', 'o', 'v', 'e', 'w', 'a', 'n', 'g', 'x', 'i', 'a', 'o', 'j', 'i', 'n', 'g']\n",
      "[12, 13, 14, 15, 16, 17, 18]\n"
     ]
    }
   ],
   "source": [
    "# list: 将其他格式的数据转换成list\n",
    "a = ['1','2','3']\n",
    "print(list(a))\n",
    "# 分隔符\n",
    "print('* '*20)\n",
    "b = \"ilovewangxiaojing\"\n",
    "print(list(b))\n",
    "# 把range产生的内容，转换成list\n",
    "print(list(range(12,19)))"
   ]
  },
  {
   "cell_type": "code",
   "execution_count": 2,
   "metadata": {},
   "outputs": [
    {
     "name": "stdout",
     "output_type": "stream",
     "text": [
      "Help on class dict in module builtins:\n",
      "\n",
      "class dict(object)\n",
      " |  dict() -> new empty dictionary\n",
      " |  dict(mapping) -> new dictionary initialized from a mapping object's\n",
      " |      (key, value) pairs\n",
      " |  dict(iterable) -> new dictionary initialized as if via:\n",
      " |      d = {}\n",
      " |      for k, v in iterable:\n",
      " |          d[k] = v\n",
      " |  dict(**kwargs) -> new dictionary initialized with the name=value pairs\n",
      " |      in the keyword argument list.  For example:  dict(one=1, two=2)\n",
      " |  \n",
      " |  Methods defined here:\n",
      " |  \n",
      " |  __contains__(self, key, /)\n",
      " |      True if D has a key k, else False.\n",
      " |  \n",
      " |  __delitem__(self, key, /)\n",
      " |      Delete self[key].\n",
      " |  \n",
      " |  __eq__(self, value, /)\n",
      " |      Return self==value.\n",
      " |  \n",
      " |  __ge__(self, value, /)\n",
      " |      Return self>=value.\n",
      " |  \n",
      " |  __getattribute__(self, name, /)\n",
      " |      Return getattr(self, name).\n",
      " |  \n",
      " |  __getitem__(...)\n",
      " |      x.__getitem__(y) <==> x[y]\n",
      " |  \n",
      " |  __gt__(self, value, /)\n",
      " |      Return self>value.\n",
      " |  \n",
      " |  __init__(self, /, *args, **kwargs)\n",
      " |      Initialize self.  See help(type(self)) for accurate signature.\n",
      " |  \n",
      " |  __iter__(self, /)\n",
      " |      Implement iter(self).\n",
      " |  \n",
      " |  __le__(self, value, /)\n",
      " |      Return self<=value.\n",
      " |  \n",
      " |  __len__(self, /)\n",
      " |      Return len(self).\n",
      " |  \n",
      " |  __lt__(self, value, /)\n",
      " |      Return self<value.\n",
      " |  \n",
      " |  __ne__(self, value, /)\n",
      " |      Return self!=value.\n",
      " |  \n",
      " |  __new__(*args, **kwargs) from builtins.type\n",
      " |      Create and return a new object.  See help(type) for accurate signature.\n",
      " |  \n",
      " |  __repr__(self, /)\n",
      " |      Return repr(self).\n",
      " |  \n",
      " |  __setitem__(self, key, value, /)\n",
      " |      Set self[key] to value.\n",
      " |  \n",
      " |  __sizeof__(...)\n",
      " |      D.__sizeof__() -> size of D in memory, in bytes\n",
      " |  \n",
      " |  clear(...)\n",
      " |      D.clear() -> None.  Remove all items from D.\n",
      " |  \n",
      " |  copy(...)\n",
      " |      D.copy() -> a shallow copy of D\n",
      " |  \n",
      " |  fromkeys(iterable, value=None, /) from builtins.type\n",
      " |      Returns a new dict with keys from iterable and values equal to value.\n",
      " |  \n",
      " |  get(...)\n",
      " |      D.get(k[,d]) -> D[k] if k in D, else d.  d defaults to None.\n",
      " |  \n",
      " |  items(...)\n",
      " |      D.items() -> a set-like object providing a view on D's items\n",
      " |  \n",
      " |  keys(...)\n",
      " |      D.keys() -> a set-like object providing a view on D's keys\n",
      " |  \n",
      " |  pop(...)\n",
      " |      D.pop(k[,d]) -> v, remove specified key and return the corresponding value.\n",
      " |      If key is not found, d is returned if given, otherwise KeyError is raised\n",
      " |  \n",
      " |  popitem(...)\n",
      " |      D.popitem() -> (k, v), remove and return some (key, value) pair as a\n",
      " |      2-tuple; but raise KeyError if D is empty.\n",
      " |  \n",
      " |  setdefault(...)\n",
      " |      D.setdefault(k[,d]) -> D.get(k,d), also set D[k]=d if k not in D\n",
      " |  \n",
      " |  update(...)\n",
      " |      D.update([E, ]**F) -> None.  Update D from dict/iterable E and F.\n",
      " |      If E is present and has a .keys() method, then does:  for k in E: D[k] = E[k]\n",
      " |      If E is present and lacks a .keys() method, then does:  for k, v in E: D[k] = v\n",
      " |      In either case, this is followed by: for k in F:  D[k] = F[k]\n",
      " |  \n",
      " |  values(...)\n",
      " |      D.values() -> an object providing a view on D's values\n",
      " |  \n",
      " |  ----------------------------------------------------------------------\n",
      " |  Data and other attributes defined here:\n",
      " |  \n",
      " |  __hash__ = None\n",
      "\n"
     ]
    }
   ],
   "source": [
    "help(dict)"
   ]
  },
  {
   "cell_type": "code",
   "execution_count": 23,
   "metadata": {},
   "outputs": [
    {
     "name": "stdout",
     "output_type": "stream",
     "text": [
      "name\n",
      "age\n",
      "xingbie\n",
      "==============================\n",
      "same\n",
      "20\n",
      "nan\n"
     ]
    }
   ],
   "source": [
    "aaa = {\"name\":\"same\", \"age\":20, \"xingbie\":\"nan\"}\n",
    "for key in aaa.keys():\n",
    "    print(key)\n",
    "\n",
    "print('==='*10)\n",
    "\n",
    "for values in aaa.values():\n",
    "    print(values)"
   ]
  },
  {
   "cell_type": "markdown",
   "metadata": {},
   "source": [
    "# 创建用户登录，包含用户名和密码,并进行唯一性判断。"
   ]
  },
  {
   "cell_type": "code",
   "execution_count": 50,
   "metadata": {},
   "outputs": [
    {
     "name": "stdout",
     "output_type": "stream",
     "text": [
      "擦，你是卧底吧，你想进来干嘛\n"
     ]
    }
   ],
   "source": [
    "# 默认定义2个用户名和密码\n",
    "user_name = {\"laotie\":\"123\", \"huahua\":\"345\"}\n",
    "def creat_user(username,password):\n",
    "    # 用.keys()把字典里的用户名称赋值给注册用户\n",
    "    usernames = user_name.keys()\n",
    "    # 判断新用户注册时输入的用户名，包含在默认的用户名称里面没\n",
    "    if username in usernames:\n",
    "        print(\"抱歉，该账户已经村子，请重新输入用户名\")\n",
    "    else:\n",
    "        # 没有包含名称，同时把新用户注册密码保存\n",
    "        user_name[username] = password\n",
    "        print(\"恭喜你，创建用户成功，请记住用户名和密码\")\n",
    "\n",
    "\n",
    "creat_user(\"goudan\",\"123\")\n",
    "print(user_name.values())\n",
    "# 创建登录函数\n",
    "def login(username,password):\n",
    "    # 把字典里的所有用户名赋值给登录用户\n",
    "    usernames = user_name.keys()\n",
    "    # 判断登录的用户名在所有的用户名中\n",
    "    if username in usernames: \n",
    "        #判断并且输入密码也在字典密码库中，用s.values()函数格式，把字典的”值“转换成列表\n",
    "        if password in user_name.values(): \n",
    "            print(\"欢迎您，登录\")\n",
    "        else:\n",
    "            print(\"妈的，您的密码，需要我来给你提供么\")\n",
    "    else:\n",
    "        print(\"擦，你是卧底吧，你想进来干嘛\")\n",
    "login(\"lao3tie\",\"321\")\n",
    "        "
   ]
  },
  {
   "cell_type": "code",
   "execution_count": null,
   "metadata": {
    "collapsed": true
   },
   "outputs": [],
   "source": []
  },
  {
   "cell_type": "code",
   "execution_count": null,
   "metadata": {
    "collapsed": true
   },
   "outputs": [],
   "source": []
  },
  {
   "cell_type": "code",
   "execution_count": null,
   "metadata": {
    "collapsed": true
   },
   "outputs": [],
   "source": []
  },
  {
   "cell_type": "code",
   "execution_count": null,
   "metadata": {
    "collapsed": true
   },
   "outputs": [],
   "source": []
  },
  {
   "cell_type": "code",
   "execution_count": null,
   "metadata": {
    "collapsed": true
   },
   "outputs": [],
   "source": []
  },
  {
   "cell_type": "code",
   "execution_count": null,
   "metadata": {
    "collapsed": true
   },
   "outputs": [],
   "source": []
  },
  {
   "cell_type": "code",
   "execution_count": null,
   "metadata": {
    "collapsed": true
   },
   "outputs": [],
   "source": []
  },
  {
   "cell_type": "code",
   "execution_count": null,
   "metadata": {
    "collapsed": true
   },
   "outputs": [],
   "source": []
  },
  {
   "cell_type": "code",
   "execution_count": null,
   "metadata": {
    "collapsed": true
   },
   "outputs": [],
   "source": []
  },
  {
   "cell_type": "code",
   "execution_count": null,
   "metadata": {
    "collapsed": true
   },
   "outputs": [],
   "source": []
  },
  {
   "cell_type": "code",
   "execution_count": null,
   "metadata": {
    "collapsed": true
   },
   "outputs": [],
   "source": []
  },
  {
   "cell_type": "code",
   "execution_count": null,
   "metadata": {
    "collapsed": true
   },
   "outputs": [],
   "source": []
  },
  {
   "cell_type": "code",
   "execution_count": null,
   "metadata": {
    "collapsed": true
   },
   "outputs": [],
   "source": []
  },
  {
   "cell_type": "code",
   "execution_count": null,
   "metadata": {
    "collapsed": true
   },
   "outputs": [],
   "source": []
  },
  {
   "cell_type": "code",
   "execution_count": null,
   "metadata": {
    "collapsed": true
   },
   "outputs": [],
   "source": []
  },
  {
   "cell_type": "code",
   "execution_count": null,
   "metadata": {
    "collapsed": true
   },
   "outputs": [],
   "source": []
  },
  {
   "cell_type": "code",
   "execution_count": null,
   "metadata": {
    "collapsed": true
   },
   "outputs": [],
   "source": []
  },
  {
   "cell_type": "code",
   "execution_count": null,
   "metadata": {
    "collapsed": true
   },
   "outputs": [],
   "source": []
  },
  {
   "cell_type": "code",
   "execution_count": null,
   "metadata": {
    "collapsed": true
   },
   "outputs": [],
   "source": []
  },
  {
   "cell_type": "code",
   "execution_count": null,
   "metadata": {
    "collapsed": true
   },
   "outputs": [],
   "source": []
  },
  {
   "cell_type": "code",
   "execution_count": null,
   "metadata": {
    "collapsed": true
   },
   "outputs": [],
   "source": []
  },
  {
   "cell_type": "code",
   "execution_count": null,
   "metadata": {
    "collapsed": true
   },
   "outputs": [],
   "source": []
  },
  {
   "cell_type": "code",
   "execution_count": null,
   "metadata": {
    "collapsed": true
   },
   "outputs": [],
   "source": []
  },
  {
   "cell_type": "code",
   "execution_count": null,
   "metadata": {
    "collapsed": true
   },
   "outputs": [],
   "source": []
  },
  {
   "cell_type": "code",
   "execution_count": null,
   "metadata": {
    "collapsed": true
   },
   "outputs": [],
   "source": []
  },
  {
   "cell_type": "code",
   "execution_count": null,
   "metadata": {
    "collapsed": true
   },
   "outputs": [],
   "source": []
  },
  {
   "cell_type": "code",
   "execution_count": null,
   "metadata": {
    "collapsed": true
   },
   "outputs": [],
   "source": []
  },
  {
   "cell_type": "code",
   "execution_count": null,
   "metadata": {
    "collapsed": true
   },
   "outputs": [],
   "source": []
  },
  {
   "cell_type": "code",
   "execution_count": null,
   "metadata": {
    "collapsed": true
   },
   "outputs": [],
   "source": []
  },
  {
   "cell_type": "code",
   "execution_count": null,
   "metadata": {
    "collapsed": true
   },
   "outputs": [],
   "source": []
  },
  {
   "cell_type": "code",
   "execution_count": null,
   "metadata": {
    "collapsed": true
   },
   "outputs": [],
   "source": []
  },
  {
   "cell_type": "code",
   "execution_count": null,
   "metadata": {
    "collapsed": true
   },
   "outputs": [],
   "source": []
  },
  {
   "cell_type": "code",
   "execution_count": null,
   "metadata": {
    "collapsed": true
   },
   "outputs": [],
   "source": []
  },
  {
   "cell_type": "code",
   "execution_count": null,
   "metadata": {
    "collapsed": true
   },
   "outputs": [],
   "source": []
  },
  {
   "cell_type": "code",
   "execution_count": null,
   "metadata": {
    "collapsed": true
   },
   "outputs": [],
   "source": []
  },
  {
   "cell_type": "code",
   "execution_count": null,
   "metadata": {
    "collapsed": true
   },
   "outputs": [],
   "source": []
  },
  {
   "cell_type": "code",
   "execution_count": null,
   "metadata": {
    "collapsed": true
   },
   "outputs": [],
   "source": []
  },
  {
   "cell_type": "code",
   "execution_count": null,
   "metadata": {
    "collapsed": true
   },
   "outputs": [],
   "source": []
  },
  {
   "cell_type": "code",
   "execution_count": null,
   "metadata": {
    "collapsed": true
   },
   "outputs": [],
   "source": []
  },
  {
   "cell_type": "code",
   "execution_count": null,
   "metadata": {
    "collapsed": true
   },
   "outputs": [],
   "source": []
  },
  {
   "cell_type": "code",
   "execution_count": null,
   "metadata": {
    "collapsed": true
   },
   "outputs": [],
   "source": []
  },
  {
   "cell_type": "code",
   "execution_count": null,
   "metadata": {
    "collapsed": true
   },
   "outputs": [],
   "source": []
  },
  {
   "cell_type": "code",
   "execution_count": null,
   "metadata": {
    "collapsed": true
   },
   "outputs": [],
   "source": []
  }
 ],
 "metadata": {
  "kernelspec": {
   "display_name": "Python 3",
   "language": "python",
   "name": "python3"
  },
  "language_info": {
   "codemirror_mode": {
    "name": "ipython",
    "version": 3
   },
   "file_extension": ".py",
   "mimetype": "text/x-python",
   "name": "python",
   "nbconvert_exporter": "python",
   "pygments_lexer": "ipython3",
   "version": "3.6.3"
  }
 },
 "nbformat": 4,
 "nbformat_minor": 2
}
