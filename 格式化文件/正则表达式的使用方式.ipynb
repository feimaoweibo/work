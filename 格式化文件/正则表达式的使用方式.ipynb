{
 "cells": [
  {
   "cell_type": "markdown",
   "metadata": {},
   "source": [
    "# 一、RE正则表达式使用的大致步骤\n",
    "\n",
    "1、使用compilc将表示正则的字符串编译为一个pattern对象\n",
    "2、通过pattern对象提供一系列方法对文本进行查找匹配，获得匹配结果，一个Match对象\n",
    "3、最后使用Match对象提供的属性和方法获得信息，根据需要进行操作\n",
    "\n",
    "# 二、RE正则表达式常用函数\n",
    "group() ：获得一个或者多个分组匹配的字符串，当要获得整个匹配的字符串时，直接使用group或者group(0)\n",
    "start: 获得分组匹配的子串在整个字符串中的起始位置，参数默认为0\n",
    "end: 获取分组匹配的子串在整个字符串中的结束位置，默认为0\n",
    "span: 返回的结构技术（start（group）,end(group)）"
   ]
  },
  {
   "cell_type": "heading",
   "metadata": {},
   "level": 1,
   "source": [
    "# 三、示例"
   ]
  },
  {
   "cell_type": "code",
   "execution_count": 1,
   "metadata": {
    "scrolled": true
   },
   "outputs": [
    {
     "name": "stdout",
     "output_type": "stream",
     "text": [
      "None\n",
      "<re.Match object; span=(3, 5), match='12'>\n",
      "12\n",
      "3\n",
      "5\n"
     ]
    }
   ],
   "source": [
    "# 案例代码1、\n",
    "import re#导入正则表达式模块\n",
    "# 通过compile()函数把正则的字符串编译为pattern对象\n",
    "# r:表示‘’内的字符串内容不转义，\\d 表示数字，+表示至少出现1次\n",
    "p = re.compile(r'\\d+')\n",
    "# 通过按照pattern对象提供指定的方法，在字符串one12twothree3456four78中进行查找\n",
    "m = p.match(\"one12twothree3456four78\")\n",
    "# 返回结果是None表示没有找到，否则会返回match对象\n",
    "print(m)\n",
    "# match（）可以输入参数表示起始和结束位置，查找到的结果只包含一个，表示第一次进行匹配成功的内容\n",
    "m1 = p.match(\"one12twothree3456four78\", 3, 6)\n",
    "print(m1)\n",
    "print(m1[0])#m1[0] 表示第一个匹配结果\n",
    "print(m1.start(0))#表示开始位置\n",
    "print(m1.end(0))#表示结束位置"
   ]
  },
  {
   "cell_type": "code",
   "execution_count": 2,
   "metadata": {},
   "outputs": [
    {
     "name": "stdout",
     "output_type": "stream",
     "text": [
      "<re.Match object; span=(0, 4), match='I am'>\n",
      "I am\n",
      "I am\n",
      "0\n",
      "4\n"
     ]
    }
   ],
   "source": [
    "# 案例代码2、\n",
    "# re.I表示忽悠大小写\n",
    "p = re.compile(r'([a-z]+) ([a-z]+)', re.I)#()表示分组，此正则表达式为分成2组同时中间有空格号，[]表示匹配中括号中a-z字符，+表示至少出现1次\n",
    "m2 = p.match(\"I am really love wangxiaojing\")\n",
    "print(m2)\n",
    "print(m2.group(0))# 表示获得整个匹配的字符串内容\n",
    "print(m2[0])#表示匹配第一个结果\n",
    "print(m2.start(0))\n",
    "print(m2.end(0))"
   ]
  },
  {
   "cell_type": "code",
   "execution_count": 3,
   "metadata": {
    "scrolled": false
   },
   "outputs": [
    {
     "name": "stdout",
     "output_type": "stream",
     "text": [
      "I\n",
      "0\n",
      "1\n",
      "('I', 'am')\n"
     ]
    }
   ],
   "source": [
    "print(m2.group(1))# 表示获得第一个组的字符串内容\n",
    "print(m2.start(1))# 表示第一个组的起始位置\n",
    "print(m2.end(1))# 表示第一个组的结束位置\n",
    "# groups()表示所有分组的字符串内容\n",
    "print(m2.groups())"
   ]
  },
  {
   "cell_type": "markdown",
   "metadata": {},
   "source": [
    "# 四、查找\n",
    "search(str,[,pos[,endpos]]):在字符串中查找匹配，pos和endpos表示起始位置，返回是match对象\n",
    "findall:查找所有,返回的结果类型是列表\n",
    "finditer:查找，返回一个iter（可迭代对象）结果"
   ]
  },
  {
   "cell_type": "code",
   "execution_count": 4,
   "metadata": {},
   "outputs": [
    {
     "name": "stdout",
     "output_type": "stream",
     "text": [
      "<re.Match object; span=(3, 5), match='12'>\n",
      "12\n",
      "<class 'list'>\n",
      "['12', '34', '567']\n"
     ]
    }
   ],
   "source": [
    "# 案例代码3、\n",
    "p = re.compile(r'\\d+')\n",
    "# search()查找，返回是match对象\n",
    "m3 = p.search(\"one12two34three567four\")\n",
    "print(m3)\n",
    "print(m3.group(0))\n",
    "# findall()在字符串中查找所有，返回结果是类型是列表\n",
    "m4 =p.findall(\"one12two34three567four\")\n",
    "print(type(m4))\n",
    "print(m4)"
   ]
  },
  {
   "cell_type": "markdown",
   "metadata": {},
   "source": [
    "# 五、匹配中文\n",
    "大部分中文内容表示范围是[u4e00-u9fa5]\n",
    "不包括全角标点符"
   ]
  },
  {
   "cell_type": "code",
   "execution_count": 5,
   "metadata": {},
   "outputs": [
    {
     "name": "stdout",
     "output_type": "stream",
     "text": [
      "['世界', '你好']\n"
     ]
    }
   ],
   "source": [
    "# 案例代码4、\n",
    "title = '世界 你好，hello world'\n",
    "p = re.compile(r'[\\u4e00-\\u9fa5]+') #\\u4e00 与 \\u9fa5 表示中文范围\n",
    "m5 = p.findall(title)\n",
    "print(m5)"
   ]
  },
  {
   "cell_type": "markdown",
   "metadata": {},
   "source": [
    "# 六、贪婪和非贪婪\n",
    "贪婪：尽可能多的匹配，（*）表示贪婪匹配\n",
    "非贪婪：找到符合条件的最小内容即可，（？）表示非贪婪\n",
    "正则默认使用贪婪模式匹配\n",
    "在python的爬虫使用非贪婪模式"
   ]
  },
  {
   "cell_type": "code",
   "execution_count": 6,
   "metadata": {},
   "outputs": [
    {
     "name": "stdout",
     "output_type": "stream",
     "text": [
      "<div>name</div><div>age</div>\n",
      "<div>name</div>\n"
     ]
    }
   ],
   "source": [
    "tanlan = \"<div>name</div><div>age</div>\"\n",
    "p = re.compile(r'<div>.*</div>')# 贪婪模式\n",
    "m6 = p.search(tanlan)\n",
    "print(m6.group(0))\n",
    "p = re.compile(r'<div>.*?</div>')#非贪婪模式\n",
    "m7 = p.search(tanlan)\n",
    "print(m7.group(0))"
   ]
  }
 ],
 "metadata": {
  "kernelspec": {
   "display_name": "Python 3",
   "language": "python",
   "name": "python3"
  },
  "language_info": {
   "codemirror_mode": {
    "name": "ipython",
    "version": 3
   },
   "file_extension": ".py",
   "mimetype": "text/x-python",
   "name": "python",
   "nbconvert_exporter": "python",
   "pygments_lexer": "ipython3",
   "version": "3.7.0"
  }
 },
 "nbformat": 4,
 "nbformat_minor": 2
}
