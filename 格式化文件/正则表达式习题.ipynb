{
 "cells": [
  {
   "cell_type": "code",
   "execution_count": 9,
   "metadata": {
    "collapsed": true
   },
   "outputs": [
    {
     "name": "stdout",
     "output_type": "stream",
     "text": [
      "['i', 'l', 'y', 'b', 'y', 'd', 't', 'l', 'm']\n['i', 'l', 'y', 'b', 'y', 'd', 't', 'l', 'm']\n"
     ]
    }
   ],
   "source": [
    "import re\n",
    "# 匹配一行文字中的所有开头的字母\n",
    "s = 'i love you but you don\\'t love me'\n",
    "# \\b 表示就近原则，可以在前面或者后面\n",
    "r1 = re.findall(r'\\b\\w', s)\n",
    "# 方式1\n",
    "print(r1)\n",
    "# 方式2\n",
    "p = re.compile(r'\\b\\w')\n",
    "r2 = p.findall(\"i love you but you don\\'t love me\")\n",
    "print(r2)"
   ]
  },
  {
   "cell_type": "code",
   "execution_count": 11,
   "metadata": {},
   "outputs": [
    {
     "name": "stdout",
     "output_type": "stream",
     "text": [
      "['22', '33', '44', '5', '7', '89']\n"
     ]
    }
   ],
   "source": [
    "# 匹配一行文字中所有数字开头的内容\n",
    "s1 = \"i 22love 33you 44but 5you don\\'t66 7love 89me\"\n",
    "r3 = re.findall(r'\\b\\d+', s1)\n",
    "print(r3)"
   ]
  },
  {
   "cell_type": "code",
   "execution_count": 12,
   "metadata": {},
   "outputs": [
    {
     "name": "stdout",
     "output_type": "stream",
     "text": [
      "['i', 'love', 'you', '2222kkkk', 'but', 'fefe23', 'you', 'dont', 'love', '2324dd']\n"
     ]
    }
   ],
   "source": [
    "# 匹配只含数字和字母的行\n",
    "# re.M 表示多行匹配，影响 ^ 和 $；\\n表示换行\n",
    "s2 = 'i love you \\n2222kkkk but \\nfefe23 you dont love \\n2324dd'\n",
    "r4 = re.findall(r'\\w+', s2, re.M)\n",
    "print(r4)"
   ]
  },
  {
   "cell_type": "code",
   "execution_count": 14,
   "metadata": {},
   "outputs": [
    {
     "name": "stdout",
     "output_type": "stream",
     "text": [
      "['bit', 'bat', 'hat', 'bot', 'hut', 'hit']\n['bat', 'hat']\n"
     ]
    }
   ],
   "source": [
    "# 写一个正则表达式，使其匹配以下字符'bit','bat','hat','hit'\n",
    "s3 = \" 'bit','bat','hat','bot','hut','hit'\"\n",
    "# 匹配末尾是t的字符\n",
    "r5 = re.findall(r'..t', s3)\n",
    "print(r5)\n",
    "# 匹配第二位是a的字符\n",
    "r6 = re.findall(r'.a.', s3)\n",
    "print(r6)"
   ]
  },
  {
   "cell_type": "code",
   "execution_count": 15,
   "metadata": {},
   "outputs": [
    {
     "name": "stdout",
     "output_type": "stream",
     "text": [
      "['1987-10-10 22:44:55', '2018-10-20 09:47:20']\n"
     ]
    }
   ],
   "source": [
    "# 提取每行中 完整的年月日和时间段\n",
    "s4 = 'se2332 1987-10-10 22:44:55 jkasfjakf 2018-10-20 09:47:20'\n",
    "r7 = re.findall(r'\\d{4}-\\d{2}-\\d{2} \\d{2}:\\d{2}:\\d{2}', s4)\n",
    "print(r7)"
   ]
  },
  {
   "cell_type": "code",
   "execution_count": 16,
   "metadata": {},
   "outputs": [
    {
     "name": "stdout",
     "output_type": "stream",
     "text": [
      "['xxxxx@gmail.com', 'xxxx@qq.com', 'jkjk@163.com']\n"
     ]
    }
   ],
   "source": [
    "# 提取电子邮件\n",
    "s5 = \" xxxxx@gmail.com xxxx@qq.com baidu.com 999.com jkjk@163.com \"\n",
    "r8 = re.findall(r'\\w+@\\w+.com', s5)\n",
    "print(r8)"
   ]
  },
  {
   "cell_type": "code",
   "execution_count": 23,
   "metadata": {},
   "outputs": [
    {
     "name": "stdout",
     "output_type": "stream",
     "text": [
      " xxxxx@gmail.com xxxx@qq.com baidu.com 999.com baobao@gmail.com \n"
     ]
    }
   ],
   "source": [
    "# 把以上待查询的电子邮件中，注册为163邮箱格式的邮件，替换为baobao@gmail.com\n",
    "r9 = re.sub(r'\\w+@163.com', 'baobao@gmail.com', s5)\n",
    "print(r9)"
   ]
  },
  {
   "cell_type": "code",
   "execution_count": null,
   "metadata": {},
   "outputs": [],
   "source": []
  }
 ],
 "metadata": {
  "kernelspec": {
   "display_name": "Python 2",
   "language": "python",
   "name": "python2"
  },
  "language_info": {
   "codemirror_mode": {
    "name": "ipython",
    "version": 2
   },
   "file_extension": ".py",
   "mimetype": "text/x-python",
   "name": "python",
   "nbconvert_exporter": "python",
   "pygments_lexer": "ipython2",
   "version": "2.7.6"
  }
 },
 "nbformat": 4,
 "nbformat_minor": 0
}
