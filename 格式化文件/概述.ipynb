{
 "cells": [
  {
   "cell_type": "markdown",
   "metadata": {},
   "source": [
    "结构化文件存储\n",
    "\txml, json,\n",
    "\t为了解决不同设备之间信息交换"
   ]
  },
  {
   "cell_type": "markdown",
   "metadata": {},
   "source": [
    "二、XML 文件\n",
    "\t1、参考资料：\n",
    "\thttps://docs.python.org/3/library/xml.etree.elementtree.html\n",
    "\thttp://www.runoob.com/python/python-xml.html\n",
    "\thttps://blog.csdn.net/seetheworld518/article/details/49535285\n",
    "\t2、XML(eXtensibleMarkupLanguage)， 可扩展标记语言\n",
    "\t标记语言： 语言中使用尖括号括起来的文本字符串标记\n",
    "\t可扩展：用户可以自己定义需要的标记\n",
    "\t例如："
   ]
  },
  {
   "cell_type": "markdown",
   "metadata": {},
   "source": [
    "<Teacher>\n",
    "    自定义标记Teacher\n",
    "    在两个标记之间任何内容都应该跟Teacher相关\n",
    "</Teacher>"
   ]
  },
  {
   "cell_type": "markdown",
   "metadata": {},
   "source": [
    "\t是w3c组织制定的一个标准\n",
    "\tXML描述的数据本身，即数据的结构和语义\n",
    "\tHTML侧重于如何显示web页面中的数据 \n",
    "       "
   ]
  },
  {
   "cell_type": "markdown",
   "metadata": {},
   "source": []
  }
 ],
 "metadata": {
  "kernelspec": {
   "display_name": "Python 2",
   "language": "python",
   "name": "python2"
  },
  "language_info": {
   "codemirror_mode": {
    "name": "ipython",
    "version": 2
   },
   "file_extension": ".py",
   "mimetype": "text/x-python",
   "name": "python",
   "nbconvert_exporter": "python",
   "pygments_lexer": "ipython2",
   "version": "2.7.6"
  }
 },
 "nbformat": 4,
 "nbformat_minor": 0
}
